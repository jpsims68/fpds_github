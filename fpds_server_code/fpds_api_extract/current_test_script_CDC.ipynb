{
 "cells": [
  {
   "cell_type": "code",
   "execution_count": null,
   "metadata": {},
   "outputs": [],
   "source": [
    "# all HHS agencies\n",
    "\n",
    "all_hhs_agencies = [    \n",
    "\n",
    "#        {\"agency\" : \"7500\", \"initial_search_url\" : \"https://www.fpds.gov/ezsearch/FEEDS/ATOM?FEEDNAME=PUBLIC&q=AGENCY_CODE:7500+LAST_MOD_DATE:[2018/10/01,2024/09/30]&templateName=1.5.3&indexName=awardfull&x=24&y=11&sortBy=LAST_MOD_DATE&asc=Y\", \"output_file\" : \"C:\\\\Users\\\\johnp\\\\OneDrive - Delphi Consulting Solutions\\\\Database Projects\\\\Project Independence\\\\proof of concept data\\\\all_hhs\\\\hhs_results_0629_7500.json\"}\n",
    "# ,      {\"agency\" : \"7501\", \"initial_search_url\" : \"https://www.fpds.gov/ezsearch/FEEDS/ATOM?FEEDNAME=PUBLIC&q=AGENCY_CODE:7501+LAST_MOD_DATE:[2018/10/01,2024/09/30]&templateName=1.5.3&indexName=awardfull&x=24&y=11&sortBy=LAST_MOD_DATE&asc=Y\", \"output_file\" : \"C:\\\\Users\\\\johnp\\\\OneDrive - Delphi Consulting Solutions\\\\Database Projects\\\\Project Independence\\\\proof of concept data\\\\all_hhs\\\\hhs_results_0629_7501.json\"}\n",
    "# ,      {\"agency\" : \"7502\", \"initial_search_url\" : \"https://www.fpds.gov/ezsearch/FEEDS/ATOM?FEEDNAME=PUBLIC&q=AGENCY_CODE:7502+LAST_MOD_DATE:[2018/10/01,2024/09/30]&templateName=1.5.3&indexName=awardfull&x=24&y=11&sortBy=LAST_MOD_DATE&asc=Y\", \"output_file\" : \"C:\\\\Users\\\\johnp\\\\OneDrive - Delphi Consulting Solutions\\\\Database Projects\\\\Project Independence\\\\proof of concept data\\\\all_hhs\\\\hhs_results_0629_7502.json\"}\n",
    "# ,      {\"agency\" : \"7503\", \"initial_search_url\" : \"https://www.fpds.gov/ezsearch/FEEDS/ATOM?FEEDNAME=PUBLIC&q=AGENCY_CODE:7503+LAST_MOD_DATE:[2018/10/01,2024/09/30]&templateName=1.5.3&indexName=awardfull&x=24&y=11&sortBy=LAST_MOD_DATE&asc=Y\", \"output_file\" : \"C:\\\\Users\\\\johnp\\\\OneDrive - Delphi Consulting Solutions\\\\Database Projects\\\\Project Independence\\\\proof of concept data\\\\all_hhs\\\\hhs_results_0629_7503.json\"}\n",
    "# ,      {\"agency\" : \"7504\", \"initial_search_url\" : \"https://www.fpds.gov/ezsearch/FEEDS/ATOM?FEEDNAME=PUBLIC&q=AGENCY_CODE:7504+LAST_MOD_DATE:[2018/10/01,2024/09/30]&templateName=1.5.3&indexName=awardfull&x=24&y=11&sortBy=LAST_MOD_DATE&asc=Y\", \"output_file\" : \"C:\\\\Users\\\\johnp\\\\OneDrive - Delphi Consulting Solutions\\\\Database Projects\\\\Project Independence\\\\proof of concept data\\\\all_hhs\\\\hhs_results_0629_7504.json\"}\n",
    "# ,      {\"agency\" : \"7505\", \"initial_search_url\" : \"https://www.fpds.gov/ezsearch/FEEDS/ATOM?FEEDNAME=PUBLIC&q=AGENCY_CODE:7505+LAST_MOD_DATE:[2018/10/01,2024/09/30]&templateName=1.5.3&indexName=awardfull&x=24&y=11&sortBy=LAST_MOD_DATE&asc=Y\", \"output_file\" : \"C:\\\\Users\\\\johnp\\\\OneDrive - Delphi Consulting Solutions\\\\Database Projects\\\\Project Independence\\\\proof of concept data\\\\all_hhs\\\\hhs_results_0629_7505.json\"}\n",
    "# ,      {\"agency\" : \"7506\", \"initial_search_url\" : \"https://www.fpds.gov/ezsearch/FEEDS/ATOM?FEEDNAME=PUBLIC&q=AGENCY_CODE:7506+LAST_MOD_DATE:[2018/10/01,2024/09/30]&templateName=1.5.3&indexName=awardfull&x=24&y=11&sortBy=LAST_MOD_DATE&asc=Y\", \"output_file\" : \"C:\\\\Users\\\\johnp\\\\OneDrive - Delphi Consulting Solutions\\\\Database Projects\\\\Project Independence\\\\proof of concept data\\\\all_hhs\\\\hhs_results_0629_7506.json\"}\n",
    "# ,      {\"agency\" : \"7507\", \"initial_search_url\" : \"https://www.fpds.gov/ezsearch/FEEDS/ATOM?FEEDNAME=PUBLIC&q=AGENCY_CODE:7507+LAST_MOD_DATE:[2018/10/01,2024/09/30]&templateName=1.5.3&indexName=awardfull&x=24&y=11&sortBy=LAST_MOD_DATE&asc=Y\", \"output_file\" : \"C:\\\\Users\\\\johnp\\\\OneDrive - Delphi Consulting Solutions\\\\Database Projects\\\\Project Independence\\\\proof of concept data\\\\all_hhs\\\\hhs_results_0629_7507.json\"}\n",
    "# ,      {\"agency\" : \"7508\", \"initial_search_url\" : \"https://www.fpds.gov/ezsearch/FEEDS/ATOM?FEEDNAME=PUBLIC&q=AGENCY_CODE:7508+LAST_MOD_DATE:[2018/10/01,2024/09/30]&templateName=1.5.3&indexName=awardfull&x=24&y=11&sortBy=LAST_MOD_DATE&asc=Y\", \"output_file\" : \"C:\\\\Users\\\\johnp\\\\OneDrive - Delphi Consulting Solutions\\\\Database Projects\\\\Project Independence\\\\proof of concept data\\\\all_hhs\\\\hhs_results_0629_7508.json\"}\n",
    "# ,      {\"agency\" : \"7509\", \"initial_search_url\" : \"https://www.fpds.gov/ezsearch/FEEDS/ATOM?FEEDNAME=PUBLIC&q=AGENCY_CODE:7509+LAST_MOD_DATE:[2018/10/01,2024/09/30]&templateName=1.5.3&indexName=awardfull&x=24&y=11&sortBy=LAST_MOD_DATE&asc=Y\", \"output_file\" : \"C:\\\\Users\\\\johnp\\\\OneDrive - Delphi Consulting Solutions\\\\Database Projects\\\\Project Independence\\\\proof of concept data\\\\all_hhs\\\\hhs_results_0629_7509.json\"}\n",
    "# ,      {\"agency\" : \"750S\", \"initial_search_url\" : \"https://www.fpds.gov/ezsearch/FEEDS/ATOM?FEEDNAME=PUBLIC&q=AGENCY_CODE:750S+LAST_MOD_DATE:[2018/10/01,2024/09/30]&templateName=1.5.3&indexName=awardfull&x=24&y=11&sortBy=LAST_MOD_DATE&asc=Y\", \"output_file\" : \"C:\\\\Users\\\\johnp\\\\OneDrive - Delphi Consulting Solutions\\\\Database Projects\\\\Project Independence\\\\proof of concept data\\\\all_hhs\\\\hhs_results_0629_750S.json\"}\n",
    "# ,      {\"agency\" : \"7510\", \"initial_search_url\" : \"https://www.fpds.gov/ezsearch/FEEDS/ATOM?FEEDNAME=PUBLIC&q=AGENCY_CODE:7510+LAST_MOD_DATE:[2018/10/01,2024/09/30]&templateName=1.5.3&indexName=awardfull&x=24&y=11&sortBy=LAST_MOD_DATE&asc=Y\", \"output_file\" : \"C:\\\\Users\\\\johnp\\\\OneDrive - Delphi Consulting Solutions\\\\Database Projects\\\\Project Independence\\\\proof of concept data\\\\all_hhs\\\\hhs_results_0629_7510.json\"}\n",
    "# ,      {\"agency\" : \"7511\", \"initial_search_url\" : \"https://www.fpds.gov/ezsearch/FEEDS/ATOM?FEEDNAME=PUBLIC&q=AGENCY_CODE:7511+LAST_MOD_DATE:[2018/10/01,2024/09/30]&templateName=1.5.3&indexName=awardfull&x=24&y=11&sortBy=LAST_MOD_DATE&asc=Y\", \"output_file\" : \"C:\\\\Users\\\\johnp\\\\OneDrive - Delphi Consulting Solutions\\\\Database Projects\\\\Project Independence\\\\proof of concept data\\\\all_hhs\\\\hhs_results_0629_7511.json\"}\n",
    "# ,      {\"agency\" : \"7512\", \"initial_search_url\" : \"https://www.fpds.gov/ezsearch/FEEDS/ATOM?FEEDNAME=PUBLIC&q=AGENCY_CODE:7512+LAST_MOD_DATE:[2018/10/01,2024/09/30]&templateName=1.5.3&indexName=awardfull&x=24&y=11&sortBy=LAST_MOD_DATE&asc=Y\", \"output_file\" : \"C:\\\\Users\\\\johnp\\\\OneDrive - Delphi Consulting Solutions\\\\Database Projects\\\\Project Independence\\\\proof of concept data\\\\all_hhs\\\\hhs_results_0629_7512.json\"}\n",
    "# ,      {\"agency\" : \"7515\", \"initial_search_url\" : \"https://www.fpds.gov/ezsearch/FEEDS/ATOM?FEEDNAME=PUBLIC&q=AGENCY_CODE:7515+LAST_MOD_DATE:[2018/10/01,2024/09/30]&templateName=1.5.3&indexName=awardfull&x=24&y=11&sortBy=LAST_MOD_DATE&asc=Y\", \"output_file\" : \"C:\\\\Users\\\\johnp\\\\OneDrive - Delphi Consulting Solutions\\\\Database Projects\\\\Project Independence\\\\proof of concept data\\\\all_hhs\\\\hhs_results_0629_7515.json\"}\n",
    "# ,      {\"agency\" : \"7516\", \"initial_search_url\" : \"https://www.fpds.gov/ezsearch/FEEDS/ATOM?FEEDNAME=PUBLIC&q=AGENCY_CODE:7516+LAST_MOD_DATE:[2018/10/01,2024/09/30]&templateName=1.5.3&indexName=awardfull&x=24&y=11&sortBy=LAST_MOD_DATE&asc=Y\", \"output_file\" : \"C:\\\\Users\\\\johnp\\\\OneDrive - Delphi Consulting Solutions\\\\Database Projects\\\\Project Independence\\\\proof of concept data\\\\all_hhs\\\\hhs_results_0629_7516.json\"}\n",
    "# ,      {\"agency\" : \"7520\", \"initial_search_url\" : \"https://www.fpds.gov/ezsearch/FEEDS/ATOM?FEEDNAME=PUBLIC&q=AGENCY_CODE:7520+LAST_MOD_DATE:[2018/10/01,2024/09/30]&templateName=1.5.3&indexName=awardfull&x=24&y=11&sortBy=LAST_MOD_DATE&asc=Y\", \"output_file\" : \"C:\\\\Users\\\\johnp\\\\OneDrive - Delphi Consulting Solutions\\\\Database Projects\\\\Project Independence\\\\proof of concept data\\\\all_hhs\\\\hhs_results_0629_7520.json\"}\n",
    "# ,      {\"agency\" : \"7521\", \"initial_search_url\" : \"https://www.fpds.gov/ezsearch/FEEDS/ATOM?FEEDNAME=PUBLIC&q=AGENCY_CODE:7521+LAST_MOD_DATE:[2018/10/01,2024/09/30]&templateName=1.5.3&indexName=awardfull&x=24&y=11&sortBy=LAST_MOD_DATE&asc=Y\", \"output_file\" : \"C:\\\\Users\\\\johnp\\\\OneDrive - Delphi Consulting Solutions\\\\Database Projects\\\\Project Independence\\\\proof of concept data\\\\all_hhs\\\\hhs_results_0629_7521.json\"}\n",
    "# ,      {\"agency\" : \"7522\", \"initial_search_url\" : \"https://www.fpds.gov/ezsearch/FEEDS/ATOM?FEEDNAME=PUBLIC&q=AGENCY_CODE:7522+LAST_MOD_DATE:[2018/10/01,2024/09/30]&templateName=1.5.3&indexName=awardfull&x=24&y=11&sortBy=LAST_MOD_DATE&asc=Y\", \"output_file\" : \"C:\\\\Users\\\\johnp\\\\OneDrive - Delphi Consulting Solutions\\\\Database Projects\\\\Project Independence\\\\proof of concept data\\\\all_hhs\\\\hhs_results_0629_7522.json\"}\n",
    "# ,      {\"agency\" : \"7523\", \"initial_search_url\" : \"https://www.fpds.gov/ezsearch/FEEDS/ATOM?FEEDNAME=PUBLIC&q=AGENCY_CODE:7523+LAST_MOD_DATE:[2018/10/01,2024/09/30]&templateName=1.5.3&indexName=awardfull&x=24&y=11&sortBy=LAST_MOD_DATE&asc=Y\", \"output_file\" : \"C:\\\\Users\\\\johnp\\\\OneDrive - Delphi Consulting Solutions\\\\Database Projects\\\\Project Independence\\\\proof of concept data\\\\all_hhs\\\\hhs_results_0629_7523.json\"}\n",
    "# ,      {\"agency\" : \"7524\", \"initial_search_url\" : \"https://www.fpds.gov/ezsearch/FEEDS/ATOM?FEEDNAME=PUBLIC&q=AGENCY_CODE:7524+LAST_MOD_DATE:[2018/10/01,2024/09/30]&templateName=1.5.3&indexName=awardfull&x=24&y=11&sortBy=LAST_MOD_DATE&asc=Y\", \"output_file\" : \"C:\\\\Users\\\\johnp\\\\OneDrive - Delphi Consulting Solutions\\\\Database Projects\\\\Project Independence\\\\proof of concept data\\\\all_hhs\\\\hhs_results_0629_7524.json\"}\n",
    "# ,      {\"agency\" : \"7525\", \"initial_search_url\" : \"https://www.fpds.gov/ezsearch/FEEDS/ATOM?FEEDNAME=PUBLIC&q=AGENCY_CODE:7525+LAST_MOD_DATE:[2018/10/01,2024/09/30]&templateName=1.5.3&indexName=awardfull&x=24&y=11&sortBy=LAST_MOD_DATE&asc=Y\", \"output_file\" : \"C:\\\\Users\\\\johnp\\\\OneDrive - Delphi Consulting Solutions\\\\Database Projects\\\\Project Independence\\\\proof of concept data\\\\all_hhs\\\\hhs_results_0629_7525.json\"}\n",
    "# ,      {\"agency\" : \"7526\", \"initial_search_url\" : \"https://www.fpds.gov/ezsearch/FEEDS/ATOM?FEEDNAME=PUBLIC&q=AGENCY_CODE:7526+LAST_MOD_DATE:[2018/10/01,2024/09/30]&templateName=1.5.3&indexName=awardfull&x=24&y=11&sortBy=LAST_MOD_DATE&asc=Y\", \"output_file\" : \"C:\\\\Users\\\\johnp\\\\OneDrive - Delphi Consulting Solutions\\\\Database Projects\\\\Project Independence\\\\proof of concept data\\\\all_hhs\\\\hhs_results_0629_7526.json\"}\n",
    "# ,      {\"agency\" : \"7527\", \"initial_search_url\" : \"https://www.fpds.gov/ezsearch/FEEDS/ATOM?FEEDNAME=PUBLIC&q=AGENCY_CODE:7527+LAST_MOD_DATE:[2018/10/01,2024/09/30]&templateName=1.5.3&indexName=awardfull&x=24&y=11&sortBy=LAST_MOD_DATE&asc=Y\", \"output_file\" : \"C:\\\\Users\\\\johnp\\\\OneDrive - Delphi Consulting Solutions\\\\Database Projects\\\\Project Independence\\\\proof of concept data\\\\all_hhs\\\\hhs_results_0629_7527.json\"}\n",
    "# ,      {\"agency\" : \"7528\", \"initial_search_url\" : \"https://www.fpds.gov/ezsearch/FEEDS/ATOM?FEEDNAME=PUBLIC&q=AGENCY_CODE:7528+LAST_MOD_DATE:[2018/10/01,2024/09/30]&templateName=1.5.3&indexName=awardfull&x=24&y=11&sortBy=LAST_MOD_DATE&asc=Y\", \"output_file\" : \"C:\\\\Users\\\\johnp\\\\OneDrive - Delphi Consulting Solutions\\\\Database Projects\\\\Project Independence\\\\proof of concept data\\\\all_hhs\\\\hhs_results_0629_7528.json\"}\n",
    "# ,      {\"agency\" : \"7529\", \"initial_search_url\" : \"https://www.fpds.gov/ezsearch/FEEDS/ATOM?FEEDNAME=PUBLIC&q=AGENCY_CODE:7529+LAST_MOD_DATE:[2018/10/01,2024/09/30]&templateName=1.5.3&indexName=awardfull&x=24&y=11&sortBy=LAST_MOD_DATE&asc=Y\", \"output_file\" : \"C:\\\\Users\\\\johnp\\\\OneDrive - Delphi Consulting Solutions\\\\Database Projects\\\\Project Independence\\\\proof of concept data\\\\all_hhs\\\\hhs_results_0629_7529.json\"}\n",
    "# ,      {\"agency\" : \"7530\", \"initial_search_url\" : \"https://www.fpds.gov/ezsearch/FEEDS/ATOM?FEEDNAME=PUBLIC&q=AGENCY_CODE:7530+LAST_MOD_DATE:[2018/10/01,2024/09/30]&templateName=1.5.3&indexName=awardfull&x=24&y=11&sortBy=LAST_MOD_DATE&asc=Y\", \"output_file\" : \"C:\\\\Users\\\\johnp\\\\OneDrive - Delphi Consulting Solutions\\\\Database Projects\\\\Project Independence\\\\proof of concept data\\\\all_hhs\\\\hhs_results_0629_7530.json\"}\n",
    "# ,      {\"agency\" : \"7537\", \"initial_search_url\" : \"https://www.fpds.gov/ezsearch/FEEDS/ATOM?FEEDNAME=PUBLIC&q=AGENCY_CODE:7537+LAST_MOD_DATE:[2018/10/01,2024/09/30]&templateName=1.5.3&indexName=awardfull&x=24&y=11&sortBy=LAST_MOD_DATE&asc=Y\", \"output_file\" : \"C:\\\\Users\\\\johnp\\\\OneDrive - Delphi Consulting Solutions\\\\Database Projects\\\\Project Independence\\\\proof of concept data\\\\all_hhs\\\\hhs_results_0629_7537.json\"}\n",
    "# ,      {\"agency\" : \"7540\", \"initial_search_url\" : \"https://www.fpds.gov/ezsearch/FEEDS/ATOM?FEEDNAME=PUBLIC&q=AGENCY_CODE:7540+LAST_MOD_DATE:[2018/10/01,2024/09/30]&templateName=1.5.3&indexName=awardfull&x=24&y=11&sortBy=LAST_MOD_DATE&asc=Y\", \"output_file\" : \"C:\\\\Users\\\\johnp\\\\OneDrive - Delphi Consulting Solutions\\\\Database Projects\\\\Project Independence\\\\proof of concept data\\\\all_hhs\\\\hhs_results_0629_7540.json\"}\n",
    "# ,      {\"agency\" : \"7545\", \"initial_search_url\" : \"https://www.fpds.gov/ezsearch/FEEDS/ATOM?FEEDNAME=PUBLIC&q=AGENCY_CODE:7545+LAST_MOD_DATE:[2018/10/01,2024/09/30]&templateName=1.5.3&indexName=awardfull&x=24&y=11&sortBy=LAST_MOD_DATE&asc=Y\", \"output_file\" : \"C:\\\\Users\\\\johnp\\\\OneDrive - Delphi Consulting Solutions\\\\Database Projects\\\\Project Independence\\\\proof of concept data\\\\all_hhs\\\\hhs_results_0629_7545.json\"}\n",
    "# ,      {\"agency\" : \"7550\", \"initial_search_url\" : \"https://www.fpds.gov/ezsearch/FEEDS/ATOM?FEEDNAME=PUBLIC&q=AGENCY_CODE:7550+LAST_MOD_DATE:[2018/10/01,2024/09/30]&templateName=1.5.3&indexName=awardfull&x=24&y=11&sortBy=LAST_MOD_DATE&asc=Y\", \"output_file\" : \"C:\\\\Users\\\\johnp\\\\OneDrive - Delphi Consulting Solutions\\\\Database Projects\\\\Project Independence\\\\proof of concept data\\\\all_hhs\\\\hhs_results_0629_7550.json\"}\n",
    "# ,      {\"agency\" : \"7555\", \"initial_search_url\" : \"https://www.fpds.gov/ezsearch/FEEDS/ATOM?FEEDNAME=PUBLIC&q=AGENCY_CODE:7555+LAST_MOD_DATE:[2018/10/01,2024/09/30]&templateName=1.5.3&indexName=awardfull&x=24&y=11&sortBy=LAST_MOD_DATE&asc=Y\", \"output_file\" : \"C:\\\\Users\\\\johnp\\\\OneDrive - Delphi Consulting Solutions\\\\Database Projects\\\\Project Independence\\\\proof of concept data\\\\all_hhs\\\\hhs_results_0629_7555.json\"}\n",
    "# ,      {\"agency\" : \"7558\", \"initial_search_url\" : \"https://www.fpds.gov/ezsearch/FEEDS/ATOM?FEEDNAME=PUBLIC&q=AGENCY_CODE:7558+LAST_MOD_DATE:[2018/10/01,2024/09/30]&templateName=1.5.3&indexName=awardfull&x=24&y=11&sortBy=LAST_MOD_DATE&asc=Y\", \"output_file\" : \"C:\\\\Users\\\\johnp\\\\OneDrive - Delphi Consulting Solutions\\\\Database Projects\\\\Project Independence\\\\proof of concept data\\\\all_hhs\\\\hhs_results_0629_7558.json\"}\n",
    "# ,      {\"agency\" : \"7559\", \"initial_search_url\" : \"https://www.fpds.gov/ezsearch/FEEDS/ATOM?FEEDNAME=PUBLIC&q=AGENCY_CODE:7559+LAST_MOD_DATE:[2018/10/01,2024/09/30]&templateName=1.5.3&indexName=awardfull&x=24&y=11&sortBy=LAST_MOD_DATE&asc=Y\", \"output_file\" : \"C:\\\\Users\\\\johnp\\\\OneDrive - Delphi Consulting Solutions\\\\Database Projects\\\\Project Independence\\\\proof of concept data\\\\all_hhs\\\\hhs_results_0629_7559.json\"}\n",
    "# ,      {\"agency\" : \"7565\", \"initial_search_url\" : \"https://www.fpds.gov/ezsearch/FEEDS/ATOM?FEEDNAME=PUBLIC&q=AGENCY_CODE:7565+LAST_MOD_DATE:[2018/10/01,2024/09/30]&templateName=1.5.3&indexName=awardfull&x=24&y=11&sortBy=LAST_MOD_DATE&asc=Y\", \"output_file\" : \"C:\\\\Users\\\\johnp\\\\OneDrive - Delphi Consulting Solutions\\\\Database Projects\\\\Project Independence\\\\proof of concept data\\\\all_hhs\\\\hhs_results_0629_7565.json\"}\n",
    "# ,      {\"agency\" : \"7570\", \"initial_search_url\" : \"https://www.fpds.gov/ezsearch/FEEDS/ATOM?FEEDNAME=PUBLIC&q=AGENCY_CODE:7570+LAST_MOD_DATE:[2018/10/01,2024/09/30]&templateName=1.5.3&indexName=awardfull&x=24&y=11&sortBy=LAST_MOD_DATE&asc=Y\", \"output_file\" : \"C:\\\\Users\\\\johnp\\\\OneDrive - Delphi Consulting Solutions\\\\Database Projects\\\\Project Independence\\\\proof of concept data\\\\all_hhs\\\\hhs_results_0629_7570.json\"}\n",
    "# ,      {\"agency\" : \"7571\", \"initial_search_url\" : \"https://www.fpds.gov/ezsearch/FEEDS/ATOM?FEEDNAME=PUBLIC&q=AGENCY_CODE:7571+LAST_MOD_DATE:[2018/10/01,2024/09/30]&templateName=1.5.3&indexName=awardfull&x=24&y=11&sortBy=LAST_MOD_DATE&asc=Y\", \"output_file\" : \"C:\\\\Users\\\\johnp\\\\OneDrive - Delphi Consulting Solutions\\\\Database Projects\\\\Project Independence\\\\proof of concept data\\\\all_hhs\\\\hhs_results_0629_7571.json\"}\n",
    "# ,      {\"agency\" : \"7572\", \"initial_search_url\" : \"https://www.fpds.gov/ezsearch/FEEDS/ATOM?FEEDNAME=PUBLIC&q=AGENCY_CODE:7572+LAST_MOD_DATE:[2018/10/01,2024/09/30]&templateName=1.5.3&indexName=awardfull&x=24&y=11&sortBy=LAST_MOD_DATE&asc=Y\", \"output_file\" : \"C:\\\\Users\\\\johnp\\\\OneDrive - Delphi Consulting Solutions\\\\Database Projects\\\\Project Independence\\\\proof of concept data\\\\all_hhs\\\\hhs_results_0629_7572.json\"}\n",
    "# ,      {\"agency\" : \"7573\", \"initial_search_url\" : \"https://www.fpds.gov/ezsearch/FEEDS/ATOM?FEEDNAME=PUBLIC&q=AGENCY_CODE:7573+LAST_MOD_DATE:[2018/10/01,2024/09/30]&templateName=1.5.3&indexName=awardfull&x=24&y=11&sortBy=LAST_MOD_DATE&asc=Y\", \"output_file\" : \"C:\\\\Users\\\\johnp\\\\OneDrive - Delphi Consulting Solutions\\\\Database Projects\\\\Project Independence\\\\proof of concept data\\\\all_hhs\\\\hhs_results_0629_7573.json\"}\n",
    "# ,      {\"agency\" : \"7574\", \"initial_search_url\" : \"https://www.fpds.gov/ezsearch/FEEDS/ATOM?FEEDNAME=PUBLIC&q=AGENCY_CODE:7574+LAST_MOD_DATE:[2018/10/01,2024/09/30]&templateName=1.5.3&indexName=awardfull&x=24&y=11&sortBy=LAST_MOD_DATE&asc=Y\", \"output_file\" : \"C:\\\\Users\\\\johnp\\\\OneDrive - Delphi Consulting Solutions\\\\Database Projects\\\\Project Independence\\\\proof of concept data\\\\all_hhs\\\\hhs_results_0629_7574.json\"}\n",
    "# ,      {\"agency\" : \"7575\", \"initial_search_url\" : \"https://www.fpds.gov/ezsearch/FEEDS/ATOM?FEEDNAME=PUBLIC&q=AGENCY_CODE:7575+LAST_MOD_DATE:[2018/10/01,2024/09/30]&templateName=1.5.3&indexName=awardfull&x=24&y=11&sortBy=LAST_MOD_DATE&asc=Y\", \"output_file\" : \"C:\\\\Users\\\\johnp\\\\OneDrive - Delphi Consulting Solutions\\\\Database Projects\\\\Project Independence\\\\proof of concept data\\\\all_hhs\\\\hhs_results_0629_7575.json\"}\n",
    "# ,      {\"agency\" : \"7576\", \"initial_search_url\" : \"https://www.fpds.gov/ezsearch/FEEDS/ATOM?FEEDNAME=PUBLIC&q=AGENCY_CODE:7576+LAST_MOD_DATE:[2018/10/01,2024/09/30]&templateName=1.5.3&indexName=awardfull&x=24&y=11&sortBy=LAST_MOD_DATE&asc=Y\", \"output_file\" : \"C:\\\\Users\\\\johnp\\\\OneDrive - Delphi Consulting Solutions\\\\Database Projects\\\\Project Independence\\\\proof of concept data\\\\all_hhs\\\\hhs_results_0629_7576.json\"}\n",
    "# ,      {\"agency\" : \"7577\", \"initial_search_url\" : \"https://www.fpds.gov/ezsearch/FEEDS/ATOM?FEEDNAME=PUBLIC&q=AGENCY_CODE:7577+LAST_MOD_DATE:[2018/10/01,2024/09/30]&templateName=1.5.3&indexName=awardfull&x=24&y=11&sortBy=LAST_MOD_DATE&asc=Y\", \"output_file\" : \"C:\\\\Users\\\\johnp\\\\OneDrive - Delphi Consulting Solutions\\\\Database Projects\\\\Project Independence\\\\proof of concept data\\\\all_hhs\\\\hhs_results_0629_7577.json\"}\n",
    "# ,      {\"agency\" : \"7590\", \"initial_search_url\" : \"https://www.fpds.gov/ezsearch/FEEDS/ATOM?FEEDNAME=PUBLIC&q=AGENCY_CODE:7590+LAST_MOD_DATE:[2018/10/01,2024/09/30]&templateName=1.5.3&indexName=awardfull&x=24&y=11&sortBy=LAST_MOD_DATE&asc=Y\", \"output_file\" : \"C:\\\\Users\\\\johnp\\\\OneDrive - Delphi Consulting Solutions\\\\Database Projects\\\\Project Independence\\\\proof of concept data\\\\all_hhs\\\\hhs_results_0629_7590.json\"}\n",
    "# ,      {\"agency\" : \"7593\", \"initial_search_url\" : \"https://www.fpds.gov/ezsearch/FEEDS/ATOM?FEEDNAME=PUBLIC&q=AGENCY_CODE:7593+LAST_MOD_DATE:[2018/10/01,2024/09/30]&templateName=1.5.3&indexName=awardfull&x=24&y=11&sortBy=LAST_MOD_DATE&asc=Y\", \"output_file\" : \"C:\\\\Users\\\\johnp\\\\OneDrive - Delphi Consulting Solutions\\\\Database Projects\\\\Project Independence\\\\proof of concept data\\\\all_hhs\\\\hhs_results_0629_7593.json\"}\n",
    "\n",
    "]\n"
   ]
  },
  {
   "cell_type": "code",
   "execution_count": 6,
   "metadata": {},
   "outputs": [],
   "source": [
    "# import modules & define parameters\n",
    "\n",
    "from fpds import get_fpds_search_results, get_api_fields, write_fpds_results_to_file, extract_fpds_fields_to_list_of_tuples\n",
    "import pandas as pd\n",
    "import pyodbc\n",
    "from pprint import pprint\n",
    "\n",
    "# initial_search_url = 'https://www.fpds.gov/ezsearch/FEEDS/ATOM?FEEDNAME=PUBLIC&q=AGENCY_CODE:7523+CREATED_DATE:[2021/10/01,2021/10/01]&templateName=1.5.3&indexName=awardfull&x=24&y=11&sortBy=CREATED_DATE&asc=Y'\n",
    "# initial_search_url = 'https://www.fpds.gov/ezsearch/FEEDS/ATOM?FEEDNAME=PUBLIC&q=AGENCY_CODE:7523+CREATED_DATE:[2021/10/01,2021/10/01]&templateName=1.5.3&indexName=awardfull&x=24&y=11&sortBy=CREATED_DATE&asc=Y'\n",
    "\n",
    "initial_search_url = \"https://www.fpds.gov/ezsearch/FEEDS/ATOM?FEEDNAME=PUBLIC&q=AGENCY_CODE:7523+LAST_MOD_DATE:[2018/10/01,2024/09/30]&templateName=1.5.3&indexName=awardfull&x=24&y=11&sortBy=LAST_MOD_DATE&asc=Y\"\n",
    "# initial_search_url = \"https://www.fpds.gov/ezsearch/FEEDS/ATOM?FEEDNAME=PUBLIC&q=AGENCY_CODE:7523+CREATED_DATE:[2018/10/01,2024/09/30]&templateName=1.5.3&indexName=awardfull&x=24&y=11&sortBy=LAST_MOD_DATE&asc=Y\""
   ]
  },
  {
   "cell_type": "code",
   "execution_count": 7,
   "metadata": {},
   "outputs": [],
   "source": [
    "# step 01 - extract data from api\n",
    "\n",
    "results = get_fpds_search_results(initial_search_url)\n",
    "\n",
    "entries = results['entries']\n",
    "metadata = results['metadata']\n",
    "# pprint(entries)"
   ]
  },
  {
   "cell_type": "code",
   "execution_count": 8,
   "metadata": {},
   "outputs": [],
   "source": [
    "# step 02 - write entries & metadata to json file\n",
    "\n",
    "## need file name as parameter\n",
    "## need to output 2 files - 1 for entries and 1 for metadata\n",
    "\n",
    "output_file = r'C:\\Users\\Administrator\\Documents\\api_downloads\\7523_2023_07_21.json'\n",
    "write_fpds_results_to_file(entries, output_file)"
   ]
  },
  {
   "cell_type": "code",
   "execution_count": 9,
   "metadata": {},
   "outputs": [],
   "source": [
    "# step 03 - read data in from the json file ( to ensure that the file data is correct) and convert to dictionary format\n",
    "\n",
    "output_file = r'C:\\Users\\Administrator\\Documents\\api_downloads\\7523_2023_07_21.json'\n",
    "f = pd.read_json(output_file)\n",
    "entries = f.to_dict()"
   ]
  },
  {
   "cell_type": "code",
   "execution_count": null,
   "metadata": {},
   "outputs": [],
   "source": [
    "# step 04 - extract field data from entries and create a master list of field names from all entries\n",
    "\n",
    "fields = extract_fpds_fields_to_list_of_tuples(entries)\n",
    "\n",
    "field_names = []\n",
    "for f in fields:\n",
    "    if f[1] not in field_names:\n",
    "        field_names.append(f[1])\n",
    "\n",
    "print(field_names)\n",
    "print(len(field_names))\n"
   ]
  },
  {
   "cell_type": "code",
   "execution_count": 11,
   "metadata": {},
   "outputs": [],
   "source": [
    "# step 05 - connect to database\n",
    "\n",
    "cn = pyodbc.connect('DSN=webinars;UID=js;PWD=Purvis1477!')\n",
    "cursor = cn.cursor()"
   ]
  },
  {
   "cell_type": "code",
   "execution_count": 14,
   "metadata": {},
   "outputs": [],
   "source": [
    "# step 06 - create imp.Stage01 table for storing results\n",
    "sql =   '''\n",
    "\t\t\t\tif OBJECT_ID('imp.Stage01','u') is not null drop table imp.Stage01\n",
    "        create table imp.Stage01 (entryNumber   int)\n",
    "        '''\n",
    "\n",
    "try:\n",
    "    cursor.execute(sql)\n",
    "\n",
    "except Exception as e:\n",
    "    print(sql, '\\n')\n",
    "    print(e)\n",
    "\n",
    "else:\n",
    "    cursor.commit()"
   ]
  },
  {
   "cell_type": "code",
   "execution_count": 15,
   "metadata": {},
   "outputs": [],
   "source": [
    "# step 07 - add all fields from field list to the table structure\n",
    "\n",
    "exceptions = []\n",
    "\n",
    "for f in field_names:\n",
    "    sql = 'alter table imp.Stage01 add ' + f + ' varchar(5000)'\n",
    "    try:\n",
    "        cursor.execute(sql) \n",
    "    except Exception as e:\n",
    "        exceptions.append((sql,e))\n",
    "    else:\n",
    "        cursor.commit()\n",
    "\n",
    "if exceptions:\n",
    "    print(exceptions)"
   ]
  },
  {
   "cell_type": "code",
   "execution_count": 12,
   "metadata": {},
   "outputs": [],
   "source": [
    "# step 08 - create individual insert sql statements for each entry and write to a list (before writing to a file)\n",
    "\n",
    "sql_scripts = []\n",
    "for entry_counter, entry in entries.items():\n",
    "    flds = [(fld, entry[fld]) for fld in entry]\n",
    "\n",
    "    fld = 'insert imp.Stage01 (entryNumber '\n",
    "    val = 'values (' + str(entry_counter) + ' '\n",
    "    for f in flds:\n",
    "        fld += f\", {f[0]} \" \n",
    "        cleaned_value = str(f[1]).replace(\"'\",\"''\")\n",
    "        val += f\", '{cleaned_value}' \"\n",
    "\n",
    "    sql =  fld + ')' + '\\n' + ' ' + val + ' )' + '\\n'\n",
    "    sql_scripts.append(sql)"
   ]
  },
  {
   "cell_type": "code",
   "execution_count": null,
   "metadata": {},
   "outputs": [],
   "source": [
    "# step 09 - create multiple sql batch statements files from the json file for uploading to database\n",
    "\n",
    "# ***** need to provide a parameter for output file name *****\n",
    "\n",
    "output_directory = r'C:\\Users\\Administrator\\Documents\\sql_scripts'\n",
    "output_filename = '7523_5yr_'\n",
    "\n",
    "\n",
    "cntr = 1\n",
    "batchsize = 5000\n",
    "for i in range(0,len(sql_scripts),batchsize):\n",
    "    file_counter = '0' + str(cntr)[0:2]\n",
    "    dest_file_path = output_directory + '\\\\' + output_filename + file_counter + '.sql'\n",
    "    with  open(dest_file_path, 'w') as file:\n",
    "      start_rec = i\n",
    "      stop_rec = i+batchsize\n",
    "      batch = sql_scripts[start_rec:stop_rec]\n",
    "      for rec in batch:\n",
    "        try:\n",
    "          file.write(rec + '\\n')\n",
    "        except:\n",
    "           print(rec)\n",
    "    \n",
    "    \n",
    "    cntr +=1\n",
    "\n",
    "    print(stop_rec, len(sql_scripts), stop_rec/len(sql_scripts))\n",
    "    "
   ]
  }
 ],
 "metadata": {
  "kernelspec": {
   "display_name": "Python 3",
   "language": "python",
   "name": "python3"
  },
  "language_info": {
   "codemirror_mode": {
    "name": "ipython",
    "version": 3
   },
   "file_extension": ".py",
   "mimetype": "text/x-python",
   "name": "python",
   "nbconvert_exporter": "python",
   "pygments_lexer": "ipython3",
   "version": "3.11.4"
  },
  "orig_nbformat": 4
 },
 "nbformat": 4,
 "nbformat_minor": 2
}
