{
 "cells": [
  {
   "cell_type": "code",
   "execution_count": 22,
   "metadata": {},
   "outputs": [],
   "source": [
    "# https://pypi.org/project/requests/             \n",
    "\n",
    "import requests\n",
    "import json"
   ]
  },
  {
   "cell_type": "code",
   "execution_count": 23,
   "metadata": {},
   "outputs": [],
   "source": [
    "# provide URL and fetch results\n",
    "\n",
    "url = 'https://www.fpds.gov/ezsearch/FEEDS/ATOM?FEEDNAME=PUBLIC&q=AGENCY_CODE:7523+LAST_MOD_DATE:[2023/07/01,2023/07/31]&templateName=1.5.3&indexName=awardfull&x=24&y=11&sortBy=LAST_MOD_DATE&asc=Y'\n",
    "\n",
    "r = requests.get(url)"
   ]
  },
  {
   "cell_type": "code",
   "execution_count": 35,
   "metadata": {},
   "outputs": [
    {
     "name": "stdout",
     "output_type": "stream",
     "text": [
      "b''\n"
     ]
    }
   ],
   "source": [
    "# assign text results to variable\n",
    "\n",
    "txt = r.text\n",
    "\n",
    "# raw = r.raw\n",
    "\n",
    "# jsn = r.json()"
   ]
  },
  {
   "cell_type": "code",
   "execution_count": 39,
   "metadata": {},
   "outputs": [],
   "source": [
    "# write results to file\n",
    "\n",
    "\n",
    "# # results to xml file\n",
    "# # or use long path: r'C:\\Users\\Administrator\\Documents\\api_downloads\\request_module_test.xml'\n",
    "\n",
    "# to current directory\n",
    "with open('./request_module_test.xml', 'w') as file:\n",
    "    file.write(txt)\n"
   ]
  }
 ],
 "metadata": {
  "kernelspec": {
   "display_name": "Python 3",
   "language": "python",
   "name": "python3"
  },
  "language_info": {
   "codemirror_mode": {
    "name": "ipython",
    "version": 3
   },
   "file_extension": ".py",
   "mimetype": "text/x-python",
   "name": "python",
   "nbconvert_exporter": "python",
   "pygments_lexer": "ipython3",
   "version": "3.11.4"
  },
  "orig_nbformat": 4
 },
 "nbformat": 4,
 "nbformat_minor": 2
}
